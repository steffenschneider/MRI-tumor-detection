{
  "nbformat": 4,
  "nbformat_minor": 0,
  "metadata": {
    "colab": {
      "provenance": [],
      "toc_visible": true,
      "authorship_tag": "ABX9TyPHKKIBQhbHiYeO+w3mhAMh",
      "include_colab_link": true
    },
    "kernelspec": {
      "name": "python3",
      "display_name": "Python 3"
    },
    "language_info": {
      "name": "python"
    }
  },
  "cells": [
    {
      "cell_type": "markdown",
      "metadata": {
        "id": "view-in-github",
        "colab_type": "text"
      },
      "source": [
        "<a href=\"https://colab.research.google.com/github/steffenschneider/MRI-tumor-detection/blob/main/mri_tumor_detection.ipynb\" target=\"_parent\"><img src=\"https://colab.research.google.com/assets/colab-badge.svg\" alt=\"Open In Colab\"/></a>"
      ]
    },
    {
      "cell_type": "markdown",
      "source": [
        "# import libraries\n"
      ],
      "metadata": {
        "id": "ZaQTt8Nhkny7"
      }
    },
    {
      "cell_type": "code",
      "execution_count": 1,
      "metadata": {
        "colab": {
          "base_uri": "https://localhost:8080/"
        },
        "id": "BWxHYA3Zi-TQ",
        "outputId": "c1f071d5-f89e-436c-e3eb-252a4d9198a4"
      },
      "outputs": [
        {
          "output_type": "stream",
          "name": "stdout",
          "text": [
            "/content\n"
          ]
        }
      ],
      "source": [
        "# !pip install tensorflow\n",
        "\n",
        "import os\n",
        "import tensorflow as tf\n",
        "import numpy as np\n",
        "from tensorflow import keras\n",
        "import tensorflow\n",
        "from tensorflow import keras\n",
        "from keras import layers, metrics, callbacks, applications, regularizers\n",
        "from keras.regularizers import l2\n",
        "import matplotlib.pyplot as plt\n",
        "from sklearn.metrics import confusion_matrix, ConfusionMatrixDisplay\n",
        "print(os.getcwd())"
      ]
    },
    {
      "cell_type": "markdown",
      "source": [
        "# get data"
      ],
      "metadata": {
        "id": "nZL56gPmskKG"
      }
    },
    {
      "cell_type": "code",
      "source": [
        "if not os.path.exists('/content'):\n",
        "    os.makedirs('/content')\n",
        "\n",
        "import shutil\n",
        "#shutil.rmtree('')\n",
        "\n",
        "from google.colab import files\n",
        "uploaded = files.upload()       # choose zip folder manually\n",
        "\n",
        "data_dir = \"./mri-tumor\"  # contains \"yes\" and \"no\" folders\n",
        "\n",
        "import zipfile\n",
        "with zipfile.ZipFile('mri-data.zip', 'r') as zip_ref:\n",
        "    zip_ref.extractall(data_dir)\n",
        "\n",
        "shutil.rmtree(data_dir + '/brain_tumor_dataset')    # delete additional redundant files\n",
        "\n"
      ],
      "metadata": {
        "colab": {
          "base_uri": "https://localhost:8080/",
          "height": 73
        },
        "id": "paFczMGc1q6I",
        "outputId": "3285ed2c-768c-484e-e856-0ec2623b5e70"
      },
      "execution_count": 2,
      "outputs": [
        {
          "output_type": "display_data",
          "data": {
            "text/plain": [
              "<IPython.core.display.HTML object>"
            ],
            "text/html": [
              "\n",
              "     <input type=\"file\" id=\"files-d3788080-9ee9-4f5b-8190-28e7d173a97c\" name=\"files[]\" multiple disabled\n",
              "        style=\"border:none\" />\n",
              "     <output id=\"result-d3788080-9ee9-4f5b-8190-28e7d173a97c\">\n",
              "      Upload widget is only available when the cell has been executed in the\n",
              "      current browser session. Please rerun this cell to enable.\n",
              "      </output>\n",
              "      <script>// Copyright 2017 Google LLC\n",
              "//\n",
              "// Licensed under the Apache License, Version 2.0 (the \"License\");\n",
              "// you may not use this file except in compliance with the License.\n",
              "// You may obtain a copy of the License at\n",
              "//\n",
              "//      http://www.apache.org/licenses/LICENSE-2.0\n",
              "//\n",
              "// Unless required by applicable law or agreed to in writing, software\n",
              "// distributed under the License is distributed on an \"AS IS\" BASIS,\n",
              "// WITHOUT WARRANTIES OR CONDITIONS OF ANY KIND, either express or implied.\n",
              "// See the License for the specific language governing permissions and\n",
              "// limitations under the License.\n",
              "\n",
              "/**\n",
              " * @fileoverview Helpers for google.colab Python module.\n",
              " */\n",
              "(function(scope) {\n",
              "function span(text, styleAttributes = {}) {\n",
              "  const element = document.createElement('span');\n",
              "  element.textContent = text;\n",
              "  for (const key of Object.keys(styleAttributes)) {\n",
              "    element.style[key] = styleAttributes[key];\n",
              "  }\n",
              "  return element;\n",
              "}\n",
              "\n",
              "// Max number of bytes which will be uploaded at a time.\n",
              "const MAX_PAYLOAD_SIZE = 100 * 1024;\n",
              "\n",
              "function _uploadFiles(inputId, outputId) {\n",
              "  const steps = uploadFilesStep(inputId, outputId);\n",
              "  const outputElement = document.getElementById(outputId);\n",
              "  // Cache steps on the outputElement to make it available for the next call\n",
              "  // to uploadFilesContinue from Python.\n",
              "  outputElement.steps = steps;\n",
              "\n",
              "  return _uploadFilesContinue(outputId);\n",
              "}\n",
              "\n",
              "// This is roughly an async generator (not supported in the browser yet),\n",
              "// where there are multiple asynchronous steps and the Python side is going\n",
              "// to poll for completion of each step.\n",
              "// This uses a Promise to block the python side on completion of each step,\n",
              "// then passes the result of the previous step as the input to the next step.\n",
              "function _uploadFilesContinue(outputId) {\n",
              "  const outputElement = document.getElementById(outputId);\n",
              "  const steps = outputElement.steps;\n",
              "\n",
              "  const next = steps.next(outputElement.lastPromiseValue);\n",
              "  return Promise.resolve(next.value.promise).then((value) => {\n",
              "    // Cache the last promise value to make it available to the next\n",
              "    // step of the generator.\n",
              "    outputElement.lastPromiseValue = value;\n",
              "    return next.value.response;\n",
              "  });\n",
              "}\n",
              "\n",
              "/**\n",
              " * Generator function which is called between each async step of the upload\n",
              " * process.\n",
              " * @param {string} inputId Element ID of the input file picker element.\n",
              " * @param {string} outputId Element ID of the output display.\n",
              " * @return {!Iterable<!Object>} Iterable of next steps.\n",
              " */\n",
              "function* uploadFilesStep(inputId, outputId) {\n",
              "  const inputElement = document.getElementById(inputId);\n",
              "  inputElement.disabled = false;\n",
              "\n",
              "  const outputElement = document.getElementById(outputId);\n",
              "  outputElement.innerHTML = '';\n",
              "\n",
              "  const pickedPromise = new Promise((resolve) => {\n",
              "    inputElement.addEventListener('change', (e) => {\n",
              "      resolve(e.target.files);\n",
              "    });\n",
              "  });\n",
              "\n",
              "  const cancel = document.createElement('button');\n",
              "  inputElement.parentElement.appendChild(cancel);\n",
              "  cancel.textContent = 'Cancel upload';\n",
              "  const cancelPromise = new Promise((resolve) => {\n",
              "    cancel.onclick = () => {\n",
              "      resolve(null);\n",
              "    };\n",
              "  });\n",
              "\n",
              "  // Wait for the user to pick the files.\n",
              "  const files = yield {\n",
              "    promise: Promise.race([pickedPromise, cancelPromise]),\n",
              "    response: {\n",
              "      action: 'starting',\n",
              "    }\n",
              "  };\n",
              "\n",
              "  cancel.remove();\n",
              "\n",
              "  // Disable the input element since further picks are not allowed.\n",
              "  inputElement.disabled = true;\n",
              "\n",
              "  if (!files) {\n",
              "    return {\n",
              "      response: {\n",
              "        action: 'complete',\n",
              "      }\n",
              "    };\n",
              "  }\n",
              "\n",
              "  for (const file of files) {\n",
              "    const li = document.createElement('li');\n",
              "    li.append(span(file.name, {fontWeight: 'bold'}));\n",
              "    li.append(span(\n",
              "        `(${file.type || 'n/a'}) - ${file.size} bytes, ` +\n",
              "        `last modified: ${\n",
              "            file.lastModifiedDate ? file.lastModifiedDate.toLocaleDateString() :\n",
              "                                    'n/a'} - `));\n",
              "    const percent = span('0% done');\n",
              "    li.appendChild(percent);\n",
              "\n",
              "    outputElement.appendChild(li);\n",
              "\n",
              "    const fileDataPromise = new Promise((resolve) => {\n",
              "      const reader = new FileReader();\n",
              "      reader.onload = (e) => {\n",
              "        resolve(e.target.result);\n",
              "      };\n",
              "      reader.readAsArrayBuffer(file);\n",
              "    });\n",
              "    // Wait for the data to be ready.\n",
              "    let fileData = yield {\n",
              "      promise: fileDataPromise,\n",
              "      response: {\n",
              "        action: 'continue',\n",
              "      }\n",
              "    };\n",
              "\n",
              "    // Use a chunked sending to avoid message size limits. See b/62115660.\n",
              "    let position = 0;\n",
              "    do {\n",
              "      const length = Math.min(fileData.byteLength - position, MAX_PAYLOAD_SIZE);\n",
              "      const chunk = new Uint8Array(fileData, position, length);\n",
              "      position += length;\n",
              "\n",
              "      const base64 = btoa(String.fromCharCode.apply(null, chunk));\n",
              "      yield {\n",
              "        response: {\n",
              "          action: 'append',\n",
              "          file: file.name,\n",
              "          data: base64,\n",
              "        },\n",
              "      };\n",
              "\n",
              "      let percentDone = fileData.byteLength === 0 ?\n",
              "          100 :\n",
              "          Math.round((position / fileData.byteLength) * 100);\n",
              "      percent.textContent = `${percentDone}% done`;\n",
              "\n",
              "    } while (position < fileData.byteLength);\n",
              "  }\n",
              "\n",
              "  // All done.\n",
              "  yield {\n",
              "    response: {\n",
              "      action: 'complete',\n",
              "    }\n",
              "  };\n",
              "}\n",
              "\n",
              "scope.google = scope.google || {};\n",
              "scope.google.colab = scope.google.colab || {};\n",
              "scope.google.colab._files = {\n",
              "  _uploadFiles,\n",
              "  _uploadFilesContinue,\n",
              "};\n",
              "})(self);\n",
              "</script> "
            ]
          },
          "metadata": {}
        },
        {
          "output_type": "stream",
          "name": "stdout",
          "text": [
            "Saving mri-data.zip to mri-data (1).zip\n"
          ]
        }
      ]
    },
    {
      "cell_type": "markdown",
      "source": [
        "# split data into training and test"
      ],
      "metadata": {
        "id": "82jgpi7o5WBx"
      }
    },
    {
      "cell_type": "code",
      "source": [
        "img_size = (224, 224)  # ResNet50 requires 224x224\n",
        "batch_size = 25\n",
        "\n",
        "# First split: 80% train, 20% validation and test\n",
        "# color_mode=\"rgb\" is needed for ResNet50, which expects 3 channels\n",
        "train_ds = tf.keras.utils.image_dataset_from_directory(\n",
        "    data_dir,\n",
        "    labels='inferred',\n",
        "    validation_split=0.2,\n",
        "    subset=\"training\",\n",
        "    seed=42,\n",
        "    image_size=img_size,        # image is resized here\n",
        "    batch_size=batch_size,\n",
        "    color_mode=\"rgb\"\n",
        ")\n",
        "\n",
        "# color_mode=\"rgb\" is needed for ResNet50, which expects 3 channels\n",
        "temp_ds = tf.keras.utils.image_dataset_from_directory(\n",
        "    data_dir,\n",
        "    labels='inferred',\n",
        "    validation_split=0.2,\n",
        "    subset=\"validation\",\n",
        "    seed=42,\n",
        "    image_size=img_size,        # image is resized here\n",
        "    batch_size=batch_size,\n",
        "    color_mode=\"rgb\"\n",
        ")\n",
        "\n",
        "# Second split: Split temp into 50% validation, 50% test (10% each of original)\n",
        "n_batches = 1\n",
        "val_ds = temp_ds.take(n_batches)     # 25 pictures for validation\n",
        "test_ds = temp_ds.skip(n_batches)    # 25 pictures for testing\n",
        "\n",
        "data_count = 0\n",
        "for batch in test_ds:\n",
        "    images, labels = batch\n",
        "    data_count += len(images)\n",
        "print(f\"Sum of data / pictures: {data_count}\")\n",
        "\n"
      ],
      "metadata": {
        "colab": {
          "base_uri": "https://localhost:8080/"
        },
        "id": "aB9SGjhFrq83",
        "outputId": "b88bedbf-71a3-42c4-8c4b-0e689b825961"
      },
      "execution_count": 3,
      "outputs": [
        {
          "output_type": "stream",
          "name": "stdout",
          "text": [
            "Found 253 files belonging to 2 classes.\n",
            "Using 203 files for training.\n",
            "Found 253 files belonging to 2 classes.\n",
            "Using 50 files for validation.\n",
            "Sum of data / pictures: 25\n"
          ]
        }
      ]
    },
    {
      "cell_type": "markdown",
      "source": [
        "# augmentation"
      ],
      "metadata": {
        "id": "Ug5r0zg56GCM"
      }
    },
    {
      "cell_type": "code",
      "source": [
        "# AUGMENTATION\n",
        "# no new images are created, only the original images are augmented\n",
        "data_augmentation = tf.keras.Sequential([\n",
        "    layers.RandomRotation(0.2),\n",
        "    layers.RandomZoom(0.2),\n",
        "    layers.RandomFlip(\"horizontal\"),\n",
        "    layers.RandomBrightness(0.2)\n",
        "])\n"
      ],
      "metadata": {
        "id": "fcFvRiIY6FTR"
      },
      "execution_count": 4,
      "outputs": []
    },
    {
      "cell_type": "markdown",
      "source": [
        "# normalization"
      ],
      "metadata": {
        "id": "QrRc1rGV6T65"
      }
    },
    {
      "cell_type": "code",
      "source": [
        "# NORMALIZATION\n",
        "# Normalize the images to [0,1] range\n",
        "# ResNet50 expects images in the range [-1,1]\n",
        "def preprocess(image, label):\n",
        "    image = data_augmentation(image)\n",
        "    #image = tf.keras.applications.resnet50.preprocess_input(image)  # Normalize images, DOES NOT WORK!!!\n",
        "    image = image / 255.0  # Scale pixel values to [0, 1]\n",
        "    return image, label\n",
        "\n",
        "train_ds = train_ds.map(preprocess)\n",
        "val_ds = val_ds.map(preprocess)\n",
        "test_ds = test_ds.map(preprocess)\n",
        "\n",
        "'''\n",
        "data_count = 0\n",
        "for batch in test_ds:\n",
        "    images, labels = batch\n",
        "    print(images[0][0][0])      # tf.Tensor([0.3997549 0.3997549 0.3997549], shape=(3,), dtype=float32)\n",
        "'''\n"
      ],
      "metadata": {
        "colab": {
          "base_uri": "https://localhost:8080/",
          "height": 52
        },
        "id": "pwv_tKvH6OkC",
        "outputId": "c263eda0-3cc7-4d24-dc4f-773741c8b459"
      },
      "execution_count": 5,
      "outputs": [
        {
          "output_type": "execute_result",
          "data": {
            "text/plain": [
              "'\\ndata_count = 0\\nfor batch in test_ds:\\n    images, labels = batch\\n    print(images[0][0][0])      # tf.Tensor([0.3997549 0.3997549 0.3997549], shape=(3,), dtype=float32)\\n'"
            ],
            "application/vnd.google.colaboratory.intrinsic+json": {
              "type": "string"
            }
          },
          "metadata": {},
          "execution_count": 5
        }
      ]
    },
    {
      "cell_type": "markdown",
      "source": [
        "# build and compile model"
      ],
      "metadata": {
        "id": "fXDHJsyH6e0f"
      }
    },
    {
      "cell_type": "code",
      "source": [
        "\n",
        "# MODEL\n",
        "# ResNet50 as feature extractor\n",
        "# use ResNet50V2 with ImageNet weights - pre-trained model!\n",
        "# V2 with better accuracy!\n",
        "# only two output classes: \"yes\" and \"no\"\n",
        "base_model = keras.applications.ResNet50V2(\n",
        "    include_top=False,              # use my own input layer and output layer\n",
        "    weights=\"imagenet\",\n",
        "    input_shape=(224, 224, 3),      # ResNet50V2 needs 3 channels\n",
        "    classes=2,\n",
        "    name=\"resnet50v2\",\n",
        ")\n",
        "\n",
        "# use trainable = False if < 10.000 images (avoids overfitting)\n",
        "base_model.trainable = False  # Freeze the base model\n",
        "\n",
        "# BUILDING THE MODEL\n",
        "# Why sigmoid? Because we have only two classes (binary classification)\n",
        "model = keras.Sequential([\n",
        "    base_model,\n",
        "    layers.GlobalAveragePooling2D(),\n",
        "    layers.Dense(128, activation=\"relu\", kernel_regularizer=l2(0.001)),\n",
        "    layers.BatchNormalization(),\n",
        "    layers.Dropout(0.6),\n",
        "    layers.Dense(64, activation=\"relu\"),\n",
        "    layers.BatchNormalization(),\n",
        "    layers.Dropout(0.6),\n",
        "    layers.Dense(1, activation=\"sigmoid\")\n",
        "])\n",
        "\n",
        "# COMPILE MODEL\n",
        "# Adam optimizer is often the best choice for transfer learning\n",
        "# use binary_crossentropy for binary classification\n",
        "model.compile(\n",
        "    optimizer=keras.optimizers.Adam(learning_rate=0.00003),\n",
        "    loss=\"binary_crossentropy\",\n",
        "    metrics=[\n",
        "        \"accuracy\",                # Genauigkeit (Accuracy)\n",
        "        metrics.Precision(),       # Präzision\n",
        "        metrics.Recall()           # Recall (Sensitivität)\n",
        "    ]\n",
        ")\n"
      ],
      "metadata": {
        "id": "jmIYQfwx6N2X"
      },
      "execution_count": 6,
      "outputs": []
    },
    {
      "cell_type": "markdown",
      "source": [
        "# class weights"
      ],
      "metadata": {
        "id": "OGmN5KLt6p3V"
      }
    },
    {
      "cell_type": "code",
      "source": [
        "\n",
        "# CLASS WEIGHTS\n",
        "# Calculate class weights to balance the dataset\n",
        "# n_yes = 155\n",
        "# n_no = 98\n",
        "dir_no = os.path.join(data_dir, 'no')\n",
        "n_no = len(os.listdir(dir_no))\n",
        "print(f\"amount of no-files: {n_no}\")\n",
        "\n",
        "dir_yes = os.path.join(data_dir, 'yes')\n",
        "n_yes = len(os.listdir(dir_yes))\n",
        "print(f\"amount of yes-files: {n_yes}\")\n",
        "\n",
        "ratio = n_yes / n_no\n",
        "class_weights = {0: ratio, 1: 1.0}  # ratio is 1.6207...\n"
      ],
      "metadata": {
        "colab": {
          "base_uri": "https://localhost:8080/"
        },
        "id": "NpdDu0mg6kei",
        "outputId": "523ff164-b335-423e-d4ef-47b93362bc56"
      },
      "execution_count": 7,
      "outputs": [
        {
          "output_type": "stream",
          "name": "stdout",
          "text": [
            "amount of no-files: 98\n",
            "amount of yes-files: 155\n"
          ]
        }
      ]
    },
    {
      "cell_type": "markdown",
      "source": [
        "# model training"
      ],
      "metadata": {
        "id": "0dooSYas64aB"
      }
    },
    {
      "cell_type": "code",
      "source": [
        "# TRAINING\n",
        "early_stopping = keras.callbacks.EarlyStopping(\n",
        "    monitor=\"val_loss\",\n",
        "    min_delta=0.001,\n",
        "    patience=15,\n",
        "    restore_best_weights=True\n",
        ")\n",
        "\n",
        "history = model.fit(\n",
        "    train_ds,\n",
        "    validation_data=val_ds,\n",
        "    epochs=20,\n",
        "    class_weight=class_weights,\n",
        "    callbacks=[early_stopping]\n",
        ")\n"
      ],
      "metadata": {
        "colab": {
          "base_uri": "https://localhost:8080/"
        },
        "id": "EK5qCSUX63OL",
        "outputId": "1c1fca0f-f376-405f-c055-fa43de3e469b"
      },
      "execution_count": null,
      "outputs": [
        {
          "output_type": "stream",
          "name": "stdout",
          "text": [
            "Epoch 1/20\n",
            "\u001b[1m9/9\u001b[0m \u001b[32m━━━━━━━━━━━━━━━━━━━━\u001b[0m\u001b[37m\u001b[0m \u001b[1m58s\u001b[0m 5s/step - accuracy: 0.5362 - loss: 1.4931 - precision: 0.7105 - recall: 0.4918 - val_accuracy: 0.4400 - val_loss: 0.9570 - val_precision: 0.4286 - val_recall: 0.2308\n",
            "Epoch 2/20\n",
            "\u001b[1m9/9\u001b[0m \u001b[32m━━━━━━━━━━━━━━━━━━━━\u001b[0m\u001b[37m\u001b[0m \u001b[1m40s\u001b[0m 4s/step - accuracy: 0.5032 - loss: 1.5919 - precision: 0.6132 - recall: 0.5336 - val_accuracy: 0.5200 - val_loss: 0.9442 - val_precision: 0.6667 - val_recall: 0.5000\n",
            "Epoch 3/20\n",
            "\u001b[1m9/9\u001b[0m \u001b[32m━━━━━━━━━━━━━━━━━━━━\u001b[0m\u001b[37m\u001b[0m \u001b[1m40s\u001b[0m 4s/step - accuracy: 0.5711 - loss: 1.4788 - precision: 0.6958 - recall: 0.5591 - val_accuracy: 0.8000 - val_loss: 0.8618 - val_precision: 0.9231 - val_recall: 0.7500\n",
            "Epoch 4/20\n",
            "\u001b[1m9/9\u001b[0m \u001b[32m━━━━━━━━━━━━━━━━━━━━\u001b[0m\u001b[37m\u001b[0m \u001b[1m40s\u001b[0m 4s/step - accuracy: 0.5826 - loss: 1.5216 - precision: 0.6960 - recall: 0.6028 - val_accuracy: 0.7200 - val_loss: 0.8773 - val_precision: 0.8125 - val_recall: 0.7647\n",
            "Epoch 5/20\n",
            "\u001b[1m9/9\u001b[0m \u001b[32m━━━━━━━━━━━━━━━━━━━━\u001b[0m\u001b[37m\u001b[0m \u001b[1m46s\u001b[0m 5s/step - accuracy: 0.4920 - loss: 1.7437 - precision: 0.6045 - recall: 0.4804 - val_accuracy: 0.6400 - val_loss: 0.8749 - val_precision: 0.7368 - val_recall: 0.7778\n",
            "Epoch 6/20\n",
            "\u001b[1m9/9\u001b[0m \u001b[32m━━━━━━━━━━━━━━━━━━━━\u001b[0m\u001b[37m\u001b[0m \u001b[1m77s\u001b[0m 4s/step - accuracy: 0.4452 - loss: 1.6427 - precision: 0.5615 - recall: 0.4786 - val_accuracy: 0.6400 - val_loss: 0.8511 - val_precision: 0.7000 - val_recall: 0.8235\n",
            "Epoch 7/20\n",
            "\u001b[1m9/9\u001b[0m \u001b[32m━━━━━━━━━━━━━━━━━━━━\u001b[0m\u001b[37m\u001b[0m \u001b[1m43s\u001b[0m 4s/step - accuracy: 0.4823 - loss: 1.4822 - precision: 0.5995 - recall: 0.4602 - val_accuracy: 0.5600 - val_loss: 0.8376 - val_precision: 0.6316 - val_recall: 0.7500\n",
            "Epoch 8/20\n",
            "\u001b[1m9/9\u001b[0m \u001b[32m━━━━━━━━━━━━━━━━━━━━\u001b[0m\u001b[37m\u001b[0m \u001b[1m0s\u001b[0m 4s/step - accuracy: 0.5232 - loss: 1.6893 - precision: 0.6019 - recall: 0.5184"
          ]
        }
      ]
    },
    {
      "cell_type": "markdown",
      "source": [
        "# evaluation + confusion matrix"
      ],
      "metadata": {
        "id": "55hDnVRc7G5s"
      }
    },
    {
      "cell_type": "code",
      "source": [
        "\n",
        "# EVALUATION\n",
        "test_loss, test_acc = model.evaluate(test_ds)\n",
        "print(f\"Test Accuracy: {test_acc:.4f}\")\n",
        "\n",
        "# Plot accuracy and loss curves\n",
        "plt.figure(figsize=(12, 5))\n",
        "plt.subplot(1, 2, 1)\n",
        "plt.plot(history.history[\"accuracy\"], label=\"Train Accuracy\")\n",
        "plt.plot(history.history[\"val_accuracy\"], label=\"Val Accuracy\")\n",
        "plt.xlabel(\"Epoch\")\n",
        "plt.ylabel(\"Accuracy\")\n",
        "plt.legend()\n",
        "\n",
        "plt.subplot(1, 2, 2)\n",
        "plt.plot(history.history[\"loss\"], label=\"Train Loss\")\n",
        "plt.plot(history.history[\"val_loss\"], label=\"Val Loss\")\n",
        "plt.xlabel(\"Epoch\")\n",
        "plt.ylabel(\"Loss\")\n",
        "plt.legend()\n",
        "\n",
        "plt.show()\n",
        "\n",
        "# PREDICTION\n",
        "y_val = []\n",
        "y_val_pred = []\n",
        "for images, labels in val_ds:\n",
        "    print(images.shape)\n",
        "    print(labels.shape)\n",
        "    y_val.extend(labels)\n",
        "    y_val_pred.extend(model.predict(images))\n",
        "\n",
        "# Confusion Matrix validation\n",
        "cm = confusion_matrix(y_val, np.round(y_val_pred))\n",
        "disp = ConfusionMatrixDisplay(confusion_matrix=cm)\n",
        "disp.plot()\n",
        "plt.show()\n",
        "\n",
        "y_test = []\n",
        "y_test_pred = []\n",
        "for images, labels in test_ds:\n",
        "    print(images.shape)\n",
        "    print(labels.shape)\n",
        "    y_test.extend(labels)\n",
        "    y_test_pred.extend(model.predict(images))\n",
        "\n",
        "# Confusion Matrix test\n",
        "cm = confusion_matrix(y_test, np.round(y_test_pred))\n",
        "disp = ConfusionMatrixDisplay(confusion_matrix=cm)\n",
        "disp.plot()\n",
        "plt.show()\n"
      ],
      "metadata": {
        "id": "wQQJX5r07Blo"
      },
      "execution_count": null,
      "outputs": []
    }
  ]
}